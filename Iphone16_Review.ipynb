{
 "cells": [
  {
   "cell_type": "code",
   "execution_count": 1,
   "id": "54baf80c-be83-4e93-8ca2-fdf9710141b4",
   "metadata": {},
   "outputs": [],
   "source": [
    "import time\n",
    "import pandas as pd\n",
    "from selenium import webdriver\n",
    "from bs4 import BeautifulSoup"
   ]
  },
  {
   "cell_type": "code",
   "execution_count": 3,
   "id": "9c128d80-15c9-4ae3-b04a-8538ffd35dad",
   "metadata": {},
   "outputs": [],
   "source": [
    "# Initialize WebDriver\n",
    "driver = webdriver.Chrome()"
   ]
  },
  {
   "cell_type": "code",
   "execution_count": 7,
   "id": "b2db9dcd-5639-4fec-8146-4fac5ecfbe44",
   "metadata": {},
   "outputs": [],
   "source": [
    "# Initial URL\n",
    "driver.get('https://www.amazon.in/product-reviews/B0DGJHBX5Y/ref=cm_cr_dp_d_show_all_btm?ie=UTF8&reviewerType=all_reviews')"
   ]
  },
  {
   "cell_type": "code",
   "execution_count": 9,
   "id": "81a751c6-f7a7-4a9a-b9c0-d4953e1af49a",
   "metadata": {},
   "outputs": [],
   "source": [
    "html_data = BeautifulSoup(driver.page_source, 'html.parser')"
   ]
  },
  {
   "cell_type": "code",
   "execution_count": 11,
   "id": "6eeb2fed-a3a6-424d-9654-0e6bf9d1be37",
   "metadata": {},
   "outputs": [],
   "source": [
    "i = 0\n",
    "url = 'https://www.amazon.in/product-reviews/B0DGJHBX5Y/ref=cm_cr_dp_d_show_all_btm?ie=UTF8&reviewerType=all_reviews&pageNumber='+str(i)"
   ]
  },
  {
   "cell_type": "code",
   "execution_count": 13,
   "id": "49546388-ce4c-4601-9cc1-b933aa3b38c1",
   "metadata": {},
   "outputs": [
    {
     "name": "stdout",
     "output_type": "stream",
     "text": [
      "https://www.amazon.in/iPhone-16-128-GB-Control/product-reviews/B0DGJHBX5Y/ref=cm_cr_arp_d_paging_btm_2?ie=UTF8&pageNumber=2&reviewerType=all_reviews\n",
      "https://www.amazon.in/iPhone-16-128-GB-Control/product-reviews/B0DGJHBX5Y/ref=cm_cr_arp_d_paging_btm_3?ie=UTF8&pageNumber=3&reviewerType=all_reviews\n",
      "https://www.amazon.in/iPhone-16-128-GB-Control/product-reviews/B0DGJHBX5Y/ref=cm_cr_arp_d_paging_btm_4?ie=UTF8&pageNumber=4&reviewerType=all_reviews\n",
      "https://www.amazon.in/iPhone-16-128-GB-Control/product-reviews/B0DGJHBX5Y/ref=cm_cr_arp_d_paging_btm_5?ie=UTF8&pageNumber=5&reviewerType=all_reviews\n",
      "https://www.amazon.in/iPhone-16-128-GB-Control/product-reviews/B0DGJHBX5Y/ref=cm_cr_arp_d_paging_btm_6?ie=UTF8&pageNumber=6&reviewerType=all_reviews\n",
      "https://www.amazon.in/iPhone-16-128-GB-Control/product-reviews/B0DGJHBX5Y/ref=cm_cr_arp_d_paging_btm_7?ie=UTF8&pageNumber=7&reviewerType=all_reviews\n",
      "https://www.amazon.in/iPhone-16-128-GB-Control/product-reviews/B0DGJHBX5Y/ref=cm_cr_arp_d_paging_btm_8?ie=UTF8&pageNumber=8&reviewerType=all_reviews\n",
      "https://www.amazon.in/iPhone-16-128-GB-Control/product-reviews/B0DGJHBX5Y/ref=cm_cr_arp_d_paging_btm_9?ie=UTF8&pageNumber=9&reviewerType=all_reviews\n",
      "https://www.amazon.in/iPhone-16-128-GB-Control/product-reviews/B0DGJHBX5Y/ref=cm_cr_arp_d_paging_btm_10?ie=UTF8&pageNumber=10&reviewerType=all_reviews\n"
     ]
    },
    {
     "ename": "TypeError",
     "evalue": "'NoneType' object is not subscriptable",
     "output_type": "error",
     "traceback": [
      "\u001b[1;31m---------------------------------------------------------------------------\u001b[0m",
      "\u001b[1;31mTypeError\u001b[0m                                 Traceback (most recent call last)",
      "Cell \u001b[1;32mIn[13], line 35\u001b[0m\n\u001b[0;32m     33\u001b[0m     url \u001b[38;5;241m=\u001b[39m \u001b[38;5;28;01mNone\u001b[39;00m\n\u001b[0;32m     34\u001b[0m \u001b[38;5;28;01melse\u001b[39;00m:\n\u001b[1;32m---> 35\u001b[0m     url \u001b[38;5;241m=\u001b[39m \u001b[38;5;124m'\u001b[39m\u001b[38;5;124mhttps://www.amazon.in\u001b[39m\u001b[38;5;124m'\u001b[39m \u001b[38;5;241m+\u001b[39m html_data\u001b[38;5;241m.\u001b[39mfind(\u001b[38;5;124m'\u001b[39m\u001b[38;5;124mli\u001b[39m\u001b[38;5;124m'\u001b[39m,{\u001b[38;5;124m'\u001b[39m\u001b[38;5;124mclass\u001b[39m\u001b[38;5;124m'\u001b[39m:\u001b[38;5;124m'\u001b[39m\u001b[38;5;124ma-last\u001b[39m\u001b[38;5;124m'\u001b[39m})\u001b[38;5;241m.\u001b[39ma[\u001b[38;5;124m'\u001b[39m\u001b[38;5;124mhref\u001b[39m\u001b[38;5;124m'\u001b[39m]\n\u001b[0;32m     36\u001b[0m \u001b[38;5;28mprint\u001b[39m(url)\n",
      "\u001b[1;31mTypeError\u001b[0m: 'NoneType' object is not subscriptable"
     ]
    }
   ],
   "source": [
    "# Start page number\n",
    "i = 0\n",
    "\n",
    "# Lists to store data\n",
    "names = []\n",
    "ratings = []\n",
    "rating_dates = []\n",
    "titles = []\n",
    "reviews_text = []\n",
    "while url != None:\n",
    "    i = i + 1\n",
    "    url = 'https://www.amazon.in/product-reviews/B0DGJHBX5Y/ref=cm_cr_dp_d_show_all_btm?ie=UTF8&reviewerType=all_reviews&pageNumber='+str(i)\n",
    "    driver.get(url)\n",
    "    time.sleep(5)  # Allow page to load\n",
    "\n",
    "    # Parse HTML content\n",
    "    html_data = BeautifulSoup(driver.page_source, 'html.parser')\n",
    "    reviews = html_data.find_all('li',{'data-hook':'review'})\n",
    "    for review in reviews:\n",
    "        name = review.find('span',{'class':'a-profile-name'}).text\n",
    "        names.append(name.strip())\n",
    "        rating = review.find('span',{'class':'a-icon-alt'}).text\n",
    "        ratings.append(rating)\n",
    "        rating_date = review.find('span',{'data-hook':'review-date'}).text\n",
    "        rating_dates.append(rating_date)\n",
    "        title = review.find('a',{'data-hook':'review-title'}).text\n",
    "        titles.append(title)\n",
    "        review_text = review.find('span',{'data-hook':'review-body'}).text\n",
    "        reviews_text.append(review_text)    \n",
    "    # Find Next Page URL\n",
    "    url_check = html_data.find('li',{'class':'a-last'})\n",
    "    if url_check == None:\n",
    "        url = None\n",
    "    else:\n",
    "        url = 'https://www.amazon.in' + html_data.find('li',{'class':'a-last'}).a['href']\n",
    "    print(url)"
   ]
  },
  {
   "cell_type": "code",
   "execution_count": 15,
   "id": "92816a24-1b4f-45af-8cdb-707d20bdc4f0",
   "metadata": {},
   "outputs": [],
   "source": [
    "data = pd.DataFrame({'profile_name':names,\n",
    "                    'rating':ratings,\n",
    "                     'rating_date':rating_dates,\n",
    "                     'title':titles,\n",
    "                     'review_text':reviews_text\n",
    "                     })"
   ]
  },
  {
   "cell_type": "code",
   "execution_count": 17,
   "id": "370852de-b0cf-47b9-ac69-d756c6fa04c2",
   "metadata": {},
   "outputs": [
    {
     "data": {
      "text/html": [
       "<div>\n",
       "<style scoped>\n",
       "    .dataframe tbody tr th:only-of-type {\n",
       "        vertical-align: middle;\n",
       "    }\n",
       "\n",
       "    .dataframe tbody tr th {\n",
       "        vertical-align: top;\n",
       "    }\n",
       "\n",
       "    .dataframe thead th {\n",
       "        text-align: right;\n",
       "    }\n",
       "</style>\n",
       "<table border=\"1\" class=\"dataframe\">\n",
       "  <thead>\n",
       "    <tr style=\"text-align: right;\">\n",
       "      <th></th>\n",
       "      <th>profile_name</th>\n",
       "      <th>rating</th>\n",
       "      <th>rating_date</th>\n",
       "      <th>title</th>\n",
       "      <th>review_text</th>\n",
       "    </tr>\n",
       "  </thead>\n",
       "  <tbody>\n",
       "    <tr>\n",
       "      <th>0</th>\n",
       "      <td>Ashwani Jha</td>\n",
       "      <td>5.0 out of 5 stars</td>\n",
       "      <td>Reviewed in India on 9 February 2025</td>\n",
       "      <td>5.0 out of 5 stars\\niPhone 16 Review – A Seaml...</td>\n",
       "      <td>\\nUpgrading to the iPhone 16 was an absolute b...</td>\n",
       "    </tr>\n",
       "    <tr>\n",
       "      <th>1</th>\n",
       "      <td>Alok</td>\n",
       "      <td>5.0 out of 5 stars</td>\n",
       "      <td>Reviewed in India on 18 March 2025</td>\n",
       "      <td>5.0 out of 5 stars\\nIphone\\n</td>\n",
       "      <td>\\nA good phone at a good price\\n</td>\n",
       "    </tr>\n",
       "    <tr>\n",
       "      <th>2</th>\n",
       "      <td>M K Chakravarthy</td>\n",
       "      <td>5.0 out of 5 stars</td>\n",
       "      <td>Reviewed in India on 21 March 2025</td>\n",
       "      <td>5.0 out of 5 stars\\nApple\\n</td>\n",
       "      <td>\\ngood product\\n</td>\n",
       "    </tr>\n",
       "    <tr>\n",
       "      <th>3</th>\n",
       "      <td>Ali</td>\n",
       "      <td>4.0 out of 5 stars</td>\n",
       "      <td>Reviewed in India on 26 March 2025</td>\n",
       "      <td>4.0 out of 5 stars\\nBattery is better and came...</td>\n",
       "      <td>\\nNice product,\\n</td>\n",
       "    </tr>\n",
       "    <tr>\n",
       "      <th>4</th>\n",
       "      <td>Asif ahmef</td>\n",
       "      <td>5.0 out of 5 stars</td>\n",
       "      <td>Reviewed in India on 6 March 2025</td>\n",
       "      <td>5.0 out of 5 stars\\niPhone 16\\n</td>\n",
       "      <td>\\nDefinately go for it......This colour also g...</td>\n",
       "    </tr>\n",
       "    <tr>\n",
       "      <th>...</th>\n",
       "      <td>...</td>\n",
       "      <td>...</td>\n",
       "      <td>...</td>\n",
       "      <td>...</td>\n",
       "      <td>...</td>\n",
       "    </tr>\n",
       "    <tr>\n",
       "      <th>95</th>\n",
       "      <td>sudhir singh</td>\n",
       "      <td>1.0 out of 5 stars</td>\n",
       "      <td>Reviewed in India on 24 December 2024</td>\n",
       "      <td>1.0 out of 5 stars\\nLining show in the screen\\n</td>\n",
       "      <td>\\nDirective phone show lining in the screen\\n</td>\n",
       "    </tr>\n",
       "    <tr>\n",
       "      <th>96</th>\n",
       "      <td>Surendra</td>\n",
       "      <td>1.0 out of 5 stars</td>\n",
       "      <td>Reviewed in India on 2 December 2024</td>\n",
       "      <td>1.0 out of 5 stars\\nWaste and useless phone;vi...</td>\n",
       "      <td>\\nUtterly waste phone for that price , not use...</td>\n",
       "    </tr>\n",
       "    <tr>\n",
       "      <th>97</th>\n",
       "      <td>Sanket Jaiswal</td>\n",
       "      <td>1.0 out of 5 stars</td>\n",
       "      <td>Reviewed in India on 5 December 2024</td>\n",
       "      <td>1.0 out of 5 stars\\nProduct had multiple scrat...</td>\n",
       "      <td>\\nThe product had multiple scratches as it see...</td>\n",
       "    </tr>\n",
       "    <tr>\n",
       "      <th>98</th>\n",
       "      <td>Rohit Vardhan G</td>\n",
       "      <td>5.0 out of 5 stars</td>\n",
       "      <td>Reviewed in India on 4 October 2024</td>\n",
       "      <td>5.0 out of 5 stars\\nBest in hands iphone\\n</td>\n",
       "      <td>\\n\\n\\n\\n\\n                    The media could ...</td>\n",
       "    </tr>\n",
       "    <tr>\n",
       "      <th>99</th>\n",
       "      <td>Arun Kumar</td>\n",
       "      <td>1.0 out of 5 stars</td>\n",
       "      <td>Reviewed in India on 4 December 2024</td>\n",
       "      <td>1.0 out of 5 stars\\nFake Product\\n</td>\n",
       "      <td>\\nSpeaker is not working..Fajr product..Amazon...</td>\n",
       "    </tr>\n",
       "  </tbody>\n",
       "</table>\n",
       "<p>100 rows × 5 columns</p>\n",
       "</div>"
      ],
      "text/plain": [
       "        profile_name              rating  \\\n",
       "0        Ashwani Jha  5.0 out of 5 stars   \n",
       "1               Alok  5.0 out of 5 stars   \n",
       "2   M K Chakravarthy  5.0 out of 5 stars   \n",
       "3                Ali  4.0 out of 5 stars   \n",
       "4         Asif ahmef  5.0 out of 5 stars   \n",
       "..               ...                 ...   \n",
       "95      sudhir singh  1.0 out of 5 stars   \n",
       "96          Surendra  1.0 out of 5 stars   \n",
       "97    Sanket Jaiswal  1.0 out of 5 stars   \n",
       "98   Rohit Vardhan G  5.0 out of 5 stars   \n",
       "99        Arun Kumar  1.0 out of 5 stars   \n",
       "\n",
       "                              rating_date  \\\n",
       "0    Reviewed in India on 9 February 2025   \n",
       "1      Reviewed in India on 18 March 2025   \n",
       "2      Reviewed in India on 21 March 2025   \n",
       "3      Reviewed in India on 26 March 2025   \n",
       "4       Reviewed in India on 6 March 2025   \n",
       "..                                    ...   \n",
       "95  Reviewed in India on 24 December 2024   \n",
       "96   Reviewed in India on 2 December 2024   \n",
       "97   Reviewed in India on 5 December 2024   \n",
       "98    Reviewed in India on 4 October 2024   \n",
       "99   Reviewed in India on 4 December 2024   \n",
       "\n",
       "                                                title  \\\n",
       "0   5.0 out of 5 stars\\niPhone 16 Review – A Seaml...   \n",
       "1                        5.0 out of 5 stars\\nIphone\\n   \n",
       "2                         5.0 out of 5 stars\\nApple\\n   \n",
       "3   4.0 out of 5 stars\\nBattery is better and came...   \n",
       "4                     5.0 out of 5 stars\\niPhone 16\\n   \n",
       "..                                                ...   \n",
       "95    1.0 out of 5 stars\\nLining show in the screen\\n   \n",
       "96  1.0 out of 5 stars\\nWaste and useless phone;vi...   \n",
       "97  1.0 out of 5 stars\\nProduct had multiple scrat...   \n",
       "98         5.0 out of 5 stars\\nBest in hands iphone\\n   \n",
       "99                 1.0 out of 5 stars\\nFake Product\\n   \n",
       "\n",
       "                                          review_text  \n",
       "0   \\nUpgrading to the iPhone 16 was an absolute b...  \n",
       "1                    \\nA good phone at a good price\\n  \n",
       "2                                    \\ngood product\\n  \n",
       "3                                   \\nNice product,\\n  \n",
       "4   \\nDefinately go for it......This colour also g...  \n",
       "..                                                ...  \n",
       "95      \\nDirective phone show lining in the screen\\n  \n",
       "96  \\nUtterly waste phone for that price , not use...  \n",
       "97  \\nThe product had multiple scratches as it see...  \n",
       "98  \\n\\n\\n\\n\\n                    The media could ...  \n",
       "99  \\nSpeaker is not working..Fajr product..Amazon...  \n",
       "\n",
       "[100 rows x 5 columns]"
      ]
     },
     "execution_count": 17,
     "metadata": {},
     "output_type": "execute_result"
    }
   ],
   "source": [
    "data"
   ]
  },
  {
   "cell_type": "code",
   "execution_count": 19,
   "id": "1092d8ac-6cfa-468f-9a92-de8ad482b38f",
   "metadata": {},
   "outputs": [
    {
     "data": {
      "text/plain": [
       "rating\n",
       "5.0 out of 5 stars    56\n",
       "4.0 out of 5 stars    17\n",
       "1.0 out of 5 stars    15\n",
       "3.0 out of 5 stars    10\n",
       "2.0 out of 5 stars     2\n",
       "Name: count, dtype: int64"
      ]
     },
     "execution_count": 19,
     "metadata": {},
     "output_type": "execute_result"
    }
   ],
   "source": [
    "data.rating.value_counts()"
   ]
  },
  {
   "cell_type": "code",
   "execution_count": 23,
   "id": "75aee208-5038-4e90-9057-3ca268276850",
   "metadata": {},
   "outputs": [],
   "source": [
    "data.to_csv('Iphone 16 Amazon Reviews.csv')"
   ]
  },
  {
   "cell_type": "code",
   "execution_count": null,
   "id": "a3d271d9-2984-49c1-94e6-bcc5947ba75d",
   "metadata": {},
   "outputs": [],
   "source": []
  }
 ],
 "metadata": {
  "kernelspec": {
   "display_name": "Python 3 (ipykernel)",
   "language": "python",
   "name": "python3"
  },
  "language_info": {
   "codemirror_mode": {
    "name": "ipython",
    "version": 3
   },
   "file_extension": ".py",
   "mimetype": "text/x-python",
   "name": "python",
   "nbconvert_exporter": "python",
   "pygments_lexer": "ipython3",
   "version": "3.12.4"
  }
 },
 "nbformat": 4,
 "nbformat_minor": 5
}
