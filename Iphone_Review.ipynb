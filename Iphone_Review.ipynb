{
 "cells": [
  {
   "cell_type": "code",
   "execution_count": 1,
   "id": "af1c5bfe-0b35-4775-bfbb-1baa19ddf48e",
   "metadata": {},
   "outputs": [],
   "source": [
    "import time\n",
    "import pandas as pd\n",
    "from selenium import webdriver\n",
    "from bs4 import BeautifulSoup"
   ]
  },
  {
   "cell_type": "code",
   "execution_count": 3,
   "id": "3155245a-4adc-4f4e-9ea4-c5e7c5c2ca97",
   "metadata": {},
   "outputs": [],
   "source": [
    "# Initialize WebDriver\n",
    "driver = webdriver.Chrome()"
   ]
  },
  {
   "cell_type": "code",
   "execution_count": 7,
   "id": "7e62922a-765e-414e-80c8-64922a6edb8e",
   "metadata": {},
   "outputs": [],
   "source": [
    "# Initial URL\n",
    "driver.get('https://www.amazon.in/Apple-iPhone-15-128-GB/product-reviews/B0CHX1W1XY/ref=cm_cr_getr_d_paging_btm_next_10?ie=UTF8&reviewerType=all_reviews')"
   ]
  },
  {
   "cell_type": "code",
   "execution_count": 9,
   "id": "422da778-d631-4bbf-9f45-717178ea8c7c",
   "metadata": {},
   "outputs": [],
   "source": [
    "html_data = BeautifulSoup(driver.page_source, 'html.parser')"
   ]
  },
  {
   "cell_type": "code",
   "execution_count": 13,
   "id": "43ba3eb5-9470-43b4-90e4-704dc1da048f",
   "metadata": {},
   "outputs": [],
   "source": [
    "url = 'https://www.amazon.in/Apple-iPhone-15-128-GB/product-reviews/B0CHX1W1XY/ref=cm_cr_arp_d_paging_btm_next_2?ie=UTF8&reviewerType=all_reviews&pageNumber='+str(i)\n"
   ]
  },
  {
   "cell_type": "code",
   "execution_count": 17,
   "id": "4aae47ca-8d9f-42af-849e-53ded986619e",
   "metadata": {},
   "outputs": [
    {
     "name": "stdout",
     "output_type": "stream",
     "text": [
      "https://www.amazon.in/Apple-iPhone-15-128-GB/product-reviews/B0CHX1W1XY/ref=cm_cr_arp_d_paging_btm_2?ie=UTF8&pageNumber=2&reviewerType=all_reviews\n",
      "https://www.amazon.in/Apple-iPhone-15-128-GB/product-reviews/B0CHX1W1XY/ref=cm_cr_arp_d_paging_btm_3?ie=UTF8&pageNumber=3&reviewerType=all_reviews\n",
      "https://www.amazon.in/Apple-iPhone-15-128-GB/product-reviews/B0CHX1W1XY/ref=cm_cr_arp_d_paging_btm_4?ie=UTF8&pageNumber=4&reviewerType=all_reviews\n",
      "https://www.amazon.in/Apple-iPhone-15-128-GB/product-reviews/B0CHX1W1XY/ref=cm_cr_arp_d_paging_btm_5?ie=UTF8&pageNumber=5&reviewerType=all_reviews\n",
      "https://www.amazon.in/Apple-iPhone-15-128-GB/product-reviews/B0CHX1W1XY/ref=cm_cr_arp_d_paging_btm_6?ie=UTF8&pageNumber=6&reviewerType=all_reviews\n",
      "https://www.amazon.in/Apple-iPhone-15-128-GB/product-reviews/B0CHX1W1XY/ref=cm_cr_arp_d_paging_btm_7?ie=UTF8&pageNumber=7&reviewerType=all_reviews\n",
      "https://www.amazon.in/Apple-iPhone-15-128-GB/product-reviews/B0CHX1W1XY/ref=cm_cr_arp_d_paging_btm_8?ie=UTF8&pageNumber=8&reviewerType=all_reviews\n",
      "https://www.amazon.in/Apple-iPhone-15-128-GB/product-reviews/B0CHX1W1XY/ref=cm_cr_arp_d_paging_btm_9?ie=UTF8&pageNumber=9&reviewerType=all_reviews\n",
      "https://www.amazon.in/Apple-iPhone-15-128-GB/product-reviews/B0CHX1W1XY/ref=cm_cr_arp_d_paging_btm_10?ie=UTF8&pageNumber=10&reviewerType=all_reviews\n"
     ]
    },
    {
     "ename": "TypeError",
     "evalue": "'NoneType' object is not subscriptable",
     "output_type": "error",
     "traceback": [
      "\u001b[1;31m---------------------------------------------------------------------------\u001b[0m",
      "\u001b[1;31mTypeError\u001b[0m                                 Traceback (most recent call last)",
      "Cell \u001b[1;32mIn[17], line 35\u001b[0m\n\u001b[0;32m     33\u001b[0m     url \u001b[38;5;241m=\u001b[39m \u001b[38;5;28;01mNone\u001b[39;00m\n\u001b[0;32m     34\u001b[0m \u001b[38;5;28;01melse\u001b[39;00m:\n\u001b[1;32m---> 35\u001b[0m     url \u001b[38;5;241m=\u001b[39m \u001b[38;5;124m'\u001b[39m\u001b[38;5;124mhttps://www.amazon.in\u001b[39m\u001b[38;5;124m'\u001b[39m \u001b[38;5;241m+\u001b[39m html_data\u001b[38;5;241m.\u001b[39mfind(\u001b[38;5;124m'\u001b[39m\u001b[38;5;124mli\u001b[39m\u001b[38;5;124m'\u001b[39m,{\u001b[38;5;124m'\u001b[39m\u001b[38;5;124mclass\u001b[39m\u001b[38;5;124m'\u001b[39m:\u001b[38;5;124m'\u001b[39m\u001b[38;5;124ma-last\u001b[39m\u001b[38;5;124m'\u001b[39m})\u001b[38;5;241m.\u001b[39ma[\u001b[38;5;124m'\u001b[39m\u001b[38;5;124mhref\u001b[39m\u001b[38;5;124m'\u001b[39m]\n\u001b[0;32m     36\u001b[0m \u001b[38;5;28mprint\u001b[39m(url)\n",
      "\u001b[1;31mTypeError\u001b[0m: 'NoneType' object is not subscriptable"
     ]
    }
   ],
   "source": [
    "# Start page number\n",
    "i = 0\n",
    "\n",
    "# Lists to store data\n",
    "names = []\n",
    "ratings = []\n",
    "rating_dates = []\n",
    "titles = []\n",
    "reviews_text = []\n",
    "while url != None:\n",
    "    i = i + 1\n",
    "    url = 'https://www.amazon.in/Apple-iPhone-15-128-GB/product-reviews/B0CHX1W1XY/ref=cm_cr_arp_d_paging_btm_next_2?ie=UTF8&reviewerType=all_reviews&pageNumber='+str(i)\n",
    "    driver.get(url)\n",
    "    time.sleep(5)  # Allow page to load\n",
    "\n",
    "    # Parse HTML content\n",
    "    html_data = BeautifulSoup(driver.page_source, 'html.parser')\n",
    "    reviews = html_data.find_all('li',{'data-hook':'review'})\n",
    "    for review in reviews:\n",
    "        name = review.find('span',{'class':'a-profile-name'}).text\n",
    "        names.append(name.strip())\n",
    "        rating = review.find('span',{'class':'a-icon-alt'}).text\n",
    "        ratings.append(rating)\n",
    "        rating_date = review.find('span',{'data-hook':'review-date'}).text\n",
    "        rating_dates.append(rating_date)\n",
    "        title = review.find('a',{'data-hook':'review-title'}).text\n",
    "        titles.append(title)\n",
    "        review_text = review.find('span',{'data-hook':'review-body'}).text\n",
    "        reviews_text.append(review_text)    \n",
    "    # Find Next Page URL\n",
    "    url_check = html_data.find('li',{'class':'a-last'})\n",
    "    if url_check == None:\n",
    "        url = None\n",
    "    else:\n",
    "        url = 'https://www.amazon.in' + html_data.find('li',{'class':'a-last'}).a['href']\n",
    "    print(url)"
   ]
  },
  {
   "cell_type": "code",
   "execution_count": 19,
   "id": "3d04a4a1-c975-4ebc-9e03-329798ae978e",
   "metadata": {},
   "outputs": [],
   "source": [
    "data = pd.DataFrame({'profile_name':names,\n",
    "                    'rating':ratings,\n",
    "                     'rating_date':rating_dates,\n",
    "                     'title':titles,\n",
    "                     'review_text':reviews_text\n",
    "                     })"
   ]
  },
  {
   "cell_type": "code",
   "execution_count": 21,
   "id": "ef9af702-247d-4353-ada3-b9a654e0b777",
   "metadata": {},
   "outputs": [
    {
     "data": {
      "text/html": [
       "<div>\n",
       "<style scoped>\n",
       "    .dataframe tbody tr th:only-of-type {\n",
       "        vertical-align: middle;\n",
       "    }\n",
       "\n",
       "    .dataframe tbody tr th {\n",
       "        vertical-align: top;\n",
       "    }\n",
       "\n",
       "    .dataframe thead th {\n",
       "        text-align: right;\n",
       "    }\n",
       "</style>\n",
       "<table border=\"1\" class=\"dataframe\">\n",
       "  <thead>\n",
       "    <tr style=\"text-align: right;\">\n",
       "      <th></th>\n",
       "      <th>profile_name</th>\n",
       "      <th>rating</th>\n",
       "      <th>rating_date</th>\n",
       "      <th>title</th>\n",
       "      <th>review_text</th>\n",
       "    </tr>\n",
       "  </thead>\n",
       "  <tbody>\n",
       "    <tr>\n",
       "      <th>0</th>\n",
       "      <td>NIDHI SOMANI</td>\n",
       "      <td>5.0 out of 5 stars</td>\n",
       "      <td>Reviewed in India on 21 March 2025</td>\n",
       "      <td>5.0 out of 5 stars\\nStunning Pink – A Perfect ...</td>\n",
       "      <td>\\nI recently purchased the iPhone 15 in Pink f...</td>\n",
       "    </tr>\n",
       "    <tr>\n",
       "      <th>1</th>\n",
       "      <td>HINDUSTAN ELECTRICALS</td>\n",
       "      <td>5.0 out of 5 stars</td>\n",
       "      <td>Reviewed in India on 6 October 2023</td>\n",
       "      <td>5.0 out of 5 stars\\niPhone 15 A solid upgrade ...</td>\n",
       "      <td>\\nDesignOne of the most noticeable changes to ...</td>\n",
       "    </tr>\n",
       "    <tr>\n",
       "      <th>2</th>\n",
       "      <td>Amazon Customer</td>\n",
       "      <td>5.0 out of 5 stars</td>\n",
       "      <td>Reviewed in India on 11 March 2025</td>\n",
       "      <td>5.0 out of 5 stars\\nSuperb mobile\\n</td>\n",
       "      <td>\\nVery good product... Performance is good, di...</td>\n",
       "    </tr>\n",
       "    <tr>\n",
       "      <th>3</th>\n",
       "      <td>Pradeep</td>\n",
       "      <td>4.0 out of 5 stars</td>\n",
       "      <td>Reviewed in India on 10 February 2025</td>\n",
       "      <td>4.0 out of 5 stars\\nCamera\\n</td>\n",
       "      <td>\\nGood phoneBut camera is not good.\\n</td>\n",
       "    </tr>\n",
       "    <tr>\n",
       "      <th>4</th>\n",
       "      <td>Obula Reddy Ankireddypalle</td>\n",
       "      <td>5.0 out of 5 stars</td>\n",
       "      <td>Reviewed in India on 26 March 2025</td>\n",
       "      <td>5.0 out of 5 stars\\nBest Apple product for giv...</td>\n",
       "      <td>\\nGood one . Compact, high privacy and quality...</td>\n",
       "    </tr>\n",
       "    <tr>\n",
       "      <th>...</th>\n",
       "      <td>...</td>\n",
       "      <td>...</td>\n",
       "      <td>...</td>\n",
       "      <td>...</td>\n",
       "      <td>...</td>\n",
       "    </tr>\n",
       "    <tr>\n",
       "      <th>95</th>\n",
       "      <td>Kishor Gaikwad</td>\n",
       "      <td>5.0 out of 5 stars</td>\n",
       "      <td>Reviewed in India on 4 November 2024</td>\n",
       "      <td>5.0 out of 5 stars\\nMust buy mobile...\\n</td>\n",
       "      <td>\\nNot required to give review, the brand name ...</td>\n",
       "    </tr>\n",
       "    <tr>\n",
       "      <th>96</th>\n",
       "      <td>Raghu Raman r</td>\n",
       "      <td>5.0 out of 5 stars</td>\n",
       "      <td>Reviewed in India on 17 December 2024</td>\n",
       "      <td>5.0 out of 5 stars\\nSuper\\n</td>\n",
       "      <td>\\nNo words to tell great 😃\\n</td>\n",
       "    </tr>\n",
       "    <tr>\n",
       "      <th>97</th>\n",
       "      <td>Bora Bhai</td>\n",
       "      <td>3.0 out of 5 stars</td>\n",
       "      <td>Reviewed in India on 8 December 2024</td>\n",
       "      <td>3.0 out of 5 stars\\nGood phone but bad exchang...</td>\n",
       "      <td>\\nPhone is absolutely beautiful but the exchan...</td>\n",
       "    </tr>\n",
       "    <tr>\n",
       "      <th>98</th>\n",
       "      <td>Avdhesh</td>\n",
       "      <td>3.0 out of 5 stars</td>\n",
       "      <td>Reviewed in India on 18 December 2024</td>\n",
       "      <td>3.0 out of 5 stars\\nPrice\\n</td>\n",
       "      <td>\\nMehenga hai\\n</td>\n",
       "    </tr>\n",
       "    <tr>\n",
       "      <th>99</th>\n",
       "      <td>Vishal Mathur</td>\n",
       "      <td>4.0 out of 5 stars</td>\n",
       "      <td>Reviewed in India on 22 August 2024</td>\n",
       "      <td>4.0 out of 5 stars\\nGood product but costly\\n</td>\n",
       "      <td>\\nApple iPhone quite costly but quite good int...</td>\n",
       "    </tr>\n",
       "  </tbody>\n",
       "</table>\n",
       "<p>100 rows × 5 columns</p>\n",
       "</div>"
      ],
      "text/plain": [
       "                  profile_name              rating  \\\n",
       "0                 NIDHI SOMANI  5.0 out of 5 stars   \n",
       "1        HINDUSTAN ELECTRICALS  5.0 out of 5 stars   \n",
       "2              Amazon Customer  5.0 out of 5 stars   \n",
       "3                      Pradeep  4.0 out of 5 stars   \n",
       "4   Obula Reddy Ankireddypalle  5.0 out of 5 stars   \n",
       "..                         ...                 ...   \n",
       "95              Kishor Gaikwad  5.0 out of 5 stars   \n",
       "96               Raghu Raman r  5.0 out of 5 stars   \n",
       "97                   Bora Bhai  3.0 out of 5 stars   \n",
       "98                     Avdhesh  3.0 out of 5 stars   \n",
       "99               Vishal Mathur  4.0 out of 5 stars   \n",
       "\n",
       "                              rating_date  \\\n",
       "0      Reviewed in India on 21 March 2025   \n",
       "1     Reviewed in India on 6 October 2023   \n",
       "2      Reviewed in India on 11 March 2025   \n",
       "3   Reviewed in India on 10 February 2025   \n",
       "4      Reviewed in India on 26 March 2025   \n",
       "..                                    ...   \n",
       "95   Reviewed in India on 4 November 2024   \n",
       "96  Reviewed in India on 17 December 2024   \n",
       "97   Reviewed in India on 8 December 2024   \n",
       "98  Reviewed in India on 18 December 2024   \n",
       "99    Reviewed in India on 22 August 2024   \n",
       "\n",
       "                                                title  \\\n",
       "0   5.0 out of 5 stars\\nStunning Pink – A Perfect ...   \n",
       "1   5.0 out of 5 stars\\niPhone 15 A solid upgrade ...   \n",
       "2                 5.0 out of 5 stars\\nSuperb mobile\\n   \n",
       "3                        4.0 out of 5 stars\\nCamera\\n   \n",
       "4   5.0 out of 5 stars\\nBest Apple product for giv...   \n",
       "..                                                ...   \n",
       "95           5.0 out of 5 stars\\nMust buy mobile...\\n   \n",
       "96                        5.0 out of 5 stars\\nSuper\\n   \n",
       "97  3.0 out of 5 stars\\nGood phone but bad exchang...   \n",
       "98                        3.0 out of 5 stars\\nPrice\\n   \n",
       "99      4.0 out of 5 stars\\nGood product but costly\\n   \n",
       "\n",
       "                                          review_text  \n",
       "0   \\nI recently purchased the iPhone 15 in Pink f...  \n",
       "1   \\nDesignOne of the most noticeable changes to ...  \n",
       "2   \\nVery good product... Performance is good, di...  \n",
       "3               \\nGood phoneBut camera is not good.\\n  \n",
       "4   \\nGood one . Compact, high privacy and quality...  \n",
       "..                                                ...  \n",
       "95  \\nNot required to give review, the brand name ...  \n",
       "96                       \\nNo words to tell great 😃\\n  \n",
       "97  \\nPhone is absolutely beautiful but the exchan...  \n",
       "98                                    \\nMehenga hai\\n  \n",
       "99  \\nApple iPhone quite costly but quite good int...  \n",
       "\n",
       "[100 rows x 5 columns]"
      ]
     },
     "execution_count": 21,
     "metadata": {},
     "output_type": "execute_result"
    }
   ],
   "source": [
    "data"
   ]
  },
  {
   "cell_type": "code",
   "execution_count": 23,
   "id": "31d17296-9bde-48c4-be0f-baae35b35ed5",
   "metadata": {},
   "outputs": [
    {
     "data": {
      "text/plain": [
       "(100, 5)"
      ]
     },
     "execution_count": 23,
     "metadata": {},
     "output_type": "execute_result"
    }
   ],
   "source": [
    "data.shape"
   ]
  },
  {
   "cell_type": "code",
   "execution_count": 25,
   "id": "7b2f53d4-1b43-4372-9818-7c9eef72d350",
   "metadata": {},
   "outputs": [
    {
     "data": {
      "text/plain": [
       "rating\n",
       "5.0 out of 5 stars    79\n",
       "4.0 out of 5 stars    17\n",
       "3.0 out of 5 stars     4\n",
       "Name: count, dtype: int64"
      ]
     },
     "execution_count": 25,
     "metadata": {},
     "output_type": "execute_result"
    }
   ],
   "source": [
    "data.rating.value_counts()"
   ]
  },
  {
   "cell_type": "code",
   "execution_count": 27,
   "id": "b95b31bf-5280-43be-a4e4-2932da93ccc6",
   "metadata": {},
   "outputs": [],
   "source": [
    "data.to_csv('Iphone 15 Amazon Reviews.csv')"
   ]
  }
 ],
 "metadata": {
  "kernelspec": {
   "display_name": "Python 3 (ipykernel)",
   "language": "python",
   "name": "python3"
  },
  "language_info": {
   "codemirror_mode": {
    "name": "ipython",
    "version": 3
   },
   "file_extension": ".py",
   "mimetype": "text/x-python",
   "name": "python",
   "nbconvert_exporter": "python",
   "pygments_lexer": "ipython3",
   "version": "3.12.4"
  }
 },
 "nbformat": 4,
 "nbformat_minor": 5
}
