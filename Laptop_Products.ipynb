{
 "cells": [
  {
   "cell_type": "code",
   "execution_count": 1,
   "id": "61fb1810-2f22-4735-9441-8d5228d101d8",
   "metadata": {},
   "outputs": [],
   "source": [
    "import time\n",
    "import pandas as pd\n",
    "from selenium import webdriver\n",
    "from bs4 import BeautifulSoup\n",
    "from tqdm import tqdm"
   ]
  },
  {
   "cell_type": "code",
   "execution_count": 3,
   "id": "fd54ff5b-125a-4e2a-a566-b45e27ee05a8",
   "metadata": {},
   "outputs": [],
   "source": [
    "driver = webdriver.Chrome()"
   ]
  },
  {
   "cell_type": "code",
   "execution_count": 11,
   "id": "6e1223a6-c3f2-48b1-bab4-9ae7b0949360",
   "metadata": {},
   "outputs": [],
   "source": [
    "driver.get('https://www.amazon.in/s?k=laptops&crid=HKNGWRSAYZL9&sprefix=laptops%2Caps%2C268&ref=nb_sb_noss_2')"
   ]
  },
  {
   "cell_type": "code",
   "execution_count": 13,
   "id": "ff0c00d3-7486-40a2-9db0-5488bce8bea9",
   "metadata": {},
   "outputs": [],
   "source": [
    "html_data = BeautifulSoup(driver.page_source, 'html.parser')"
   ]
  },
  {
   "cell_type": "code",
   "execution_count": 15,
   "id": "3e29633e-ebb8-4a54-bad0-046ff0c20740",
   "metadata": {},
   "outputs": [],
   "source": [
    "No_of_pages = int(html_data.find('span',{'class':'s-pagination-item s-pagination-disabled'}).text)"
   ]
  },
  {
   "cell_type": "code",
   "execution_count": 17,
   "id": "8be7bca3-e816-44bf-a470-ee3417c02214",
   "metadata": {},
   "outputs": [
    {
     "data": {
      "text/plain": [
       "20"
      ]
     },
     "execution_count": 17,
     "metadata": {},
     "output_type": "execute_result"
    }
   ],
   "source": [
    "No_of_pages"
   ]
  },
  {
   "cell_type": "code",
   "execution_count": 19,
   "id": "f7cf5739-c5e8-45ed-9048-b47c27d14f65",
   "metadata": {},
   "outputs": [],
   "source": [
    "products = html_data.find_all('div',{'data-component-type':'s-search-result'})"
   ]
  },
  {
   "cell_type": "code",
   "execution_count": 21,
   "id": "827f59c6-442f-464b-ade2-dcd3545eb3e4",
   "metadata": {},
   "outputs": [],
   "source": [
    "titles=[]\n",
    "imgs=[]\n",
    "ratings=[]\n",
    "prices=[]\n",
    "for i in range(No_of_pages):\n",
    "    url='https://www.amazon.in/s?k=laptops&page=12&crid=3DP0WKWF0TQL7&sprefix=laptops%2Caps%2C204&ref=nb_sb_noss_2&page='+str(i+1)\n",
    "    driver.get(url)\n",
    "    time.sleep(3)\n",
    "    html_data=BeautifulSoup(driver.page_source,'html.parser')\n",
    "    for p in products:\n",
    "        title=p.find('h2',{'class':'a-size-medium a-spacing-none a-color-base a-text-normal'}).text\n",
    "        titles.append(title)\n",
    "        img=p.find('img')['src']\n",
    "        imgs.append(img)\n",
    "        rating=p.find('span',{'class':'a-icon-alt'})\n",
    "        if rating==None:\n",
    "            rating='no rating'\n",
    "        else:\n",
    "            rating=p.find('span',{'class':'a-icon-alt'}).text\n",
    "        ratings.append(rating)\n",
    "        price='₹' + p.find('span',{'class':'a-price-whole'}).text\n",
    "        prices.append(price)"
   ]
  },
  {
   "cell_type": "code",
   "execution_count": 23,
   "id": "799727aa-2800-4462-bead-0c9ed6f1e330",
   "metadata": {},
   "outputs": [],
   "source": [
    "data = pd.DataFrame({'titles':titles, 'images':imgs, 'ratings':ratings, 'price':prices})"
   ]
  },
  {
   "cell_type": "code",
   "execution_count": 25,
   "id": "1cb175b4-1582-4678-bdc0-35b6d3d47697",
   "metadata": {},
   "outputs": [
    {
     "data": {
      "text/html": [
       "<div>\n",
       "<style scoped>\n",
       "    .dataframe tbody tr th:only-of-type {\n",
       "        vertical-align: middle;\n",
       "    }\n",
       "\n",
       "    .dataframe tbody tr th {\n",
       "        vertical-align: top;\n",
       "    }\n",
       "\n",
       "    .dataframe thead th {\n",
       "        text-align: right;\n",
       "    }\n",
       "</style>\n",
       "<table border=\"1\" class=\"dataframe\">\n",
       "  <thead>\n",
       "    <tr style=\"text-align: right;\">\n",
       "      <th></th>\n",
       "      <th>titles</th>\n",
       "      <th>images</th>\n",
       "      <th>ratings</th>\n",
       "      <th>price</th>\n",
       "    </tr>\n",
       "  </thead>\n",
       "  <tbody>\n",
       "    <tr>\n",
       "      <th>0</th>\n",
       "      <td>Lenovo IdeaPad Slim 5 Snapdragon X Plus X1P-42...</td>\n",
       "      <td>https://m.media-amazon.com/images/I/81Hlhi09+-...</td>\n",
       "      <td>5.0 out of 5 stars</td>\n",
       "      <td>₹74,990</td>\n",
       "    </tr>\n",
       "    <tr>\n",
       "      <th>1</th>\n",
       "      <td>Lenovo IdeaPad Slim 3, Intel Core i5-12450H, 1...</td>\n",
       "      <td>https://m.media-amazon.com/images/I/81Tj8G57-W...</td>\n",
       "      <td>3.9 out of 5 stars</td>\n",
       "      <td>₹52,890</td>\n",
       "    </tr>\n",
       "    <tr>\n",
       "      <th>2</th>\n",
       "      <td>ASUS TUF Gaming, AMD Ryzen AI 9 HX 370, 2.0GHz...</td>\n",
       "      <td>https://m.media-amazon.com/images/I/71pVO1U9oe...</td>\n",
       "      <td>4.3 out of 5 stars</td>\n",
       "      <td>₹1,64,990</td>\n",
       "    </tr>\n",
       "    <tr>\n",
       "      <th>3</th>\n",
       "      <td>Apple MacBook Air Laptop with M2 chip: 34.46 c...</td>\n",
       "      <td>https://m.media-amazon.com/images/I/71f5Eu5lJS...</td>\n",
       "      <td>4.4 out of 5 stars</td>\n",
       "      <td>₹76,990</td>\n",
       "    </tr>\n",
       "    <tr>\n",
       "      <th>4</th>\n",
       "      <td>HP Victus, AMD Ryzen 5 5600H, NVIDIA RTX 3050,...</td>\n",
       "      <td>https://m.media-amazon.com/images/I/71J2F-6lIP...</td>\n",
       "      <td>4.1 out of 5 stars</td>\n",
       "      <td>₹60,990</td>\n",
       "    </tr>\n",
       "    <tr>\n",
       "      <th>...</th>\n",
       "      <td>...</td>\n",
       "      <td>...</td>\n",
       "      <td>...</td>\n",
       "      <td>...</td>\n",
       "    </tr>\n",
       "    <tr>\n",
       "      <th>435</th>\n",
       "      <td>HP 15s,12th Gen Intel Core i3-1215U, 8GB DDR4,...</td>\n",
       "      <td>https://m.media-amazon.com/images/I/71+gQ9gOTu...</td>\n",
       "      <td>4.2 out of 5 stars</td>\n",
       "      <td>₹33,999</td>\n",
       "    </tr>\n",
       "    <tr>\n",
       "      <th>436</th>\n",
       "      <td>HP 15s, AMD Ryzen 5 5500U, 8GB DDR4, 512GB SSD...</td>\n",
       "      <td>https://m.media-amazon.com/images/I/71-I1PNzLS...</td>\n",
       "      <td>4.1 out of 5 stars</td>\n",
       "      <td>₹37,422</td>\n",
       "    </tr>\n",
       "    <tr>\n",
       "      <th>437</th>\n",
       "      <td>HP Victus, AMD Ryzen 5 5600H, AMD Radeon RX 65...</td>\n",
       "      <td>https://m.media-amazon.com/images/I/71hC42cKbs...</td>\n",
       "      <td>3.6 out of 5 stars</td>\n",
       "      <td>₹49,990</td>\n",
       "    </tr>\n",
       "    <tr>\n",
       "      <th>438</th>\n",
       "      <td>Lenovo IdeaPad Slim 3 13th Gen Core i3-1305U (...</td>\n",
       "      <td>https://m.media-amazon.com/images/I/81adHsgHyd...</td>\n",
       "      <td>4.1 out of 5 stars</td>\n",
       "      <td>₹40,000</td>\n",
       "    </tr>\n",
       "    <tr>\n",
       "      <th>439</th>\n",
       "      <td>Lenovo V15 12th Gen Intel Core i7-1255U 15.6\" ...</td>\n",
       "      <td>https://m.media-amazon.com/images/I/719+CaSnPx...</td>\n",
       "      <td>3.2 out of 5 stars</td>\n",
       "      <td>₹49,990</td>\n",
       "    </tr>\n",
       "  </tbody>\n",
       "</table>\n",
       "<p>440 rows × 4 columns</p>\n",
       "</div>"
      ],
      "text/plain": [
       "                                                titles  \\\n",
       "0    Lenovo IdeaPad Slim 5 Snapdragon X Plus X1P-42...   \n",
       "1    Lenovo IdeaPad Slim 3, Intel Core i5-12450H, 1...   \n",
       "2    ASUS TUF Gaming, AMD Ryzen AI 9 HX 370, 2.0GHz...   \n",
       "3    Apple MacBook Air Laptop with M2 chip: 34.46 c...   \n",
       "4    HP Victus, AMD Ryzen 5 5600H, NVIDIA RTX 3050,...   \n",
       "..                                                 ...   \n",
       "435  HP 15s,12th Gen Intel Core i3-1215U, 8GB DDR4,...   \n",
       "436  HP 15s, AMD Ryzen 5 5500U, 8GB DDR4, 512GB SSD...   \n",
       "437  HP Victus, AMD Ryzen 5 5600H, AMD Radeon RX 65...   \n",
       "438  Lenovo IdeaPad Slim 3 13th Gen Core i3-1305U (...   \n",
       "439  Lenovo V15 12th Gen Intel Core i7-1255U 15.6\" ...   \n",
       "\n",
       "                                                images             ratings  \\\n",
       "0    https://m.media-amazon.com/images/I/81Hlhi09+-...  5.0 out of 5 stars   \n",
       "1    https://m.media-amazon.com/images/I/81Tj8G57-W...  3.9 out of 5 stars   \n",
       "2    https://m.media-amazon.com/images/I/71pVO1U9oe...  4.3 out of 5 stars   \n",
       "3    https://m.media-amazon.com/images/I/71f5Eu5lJS...  4.4 out of 5 stars   \n",
       "4    https://m.media-amazon.com/images/I/71J2F-6lIP...  4.1 out of 5 stars   \n",
       "..                                                 ...                 ...   \n",
       "435  https://m.media-amazon.com/images/I/71+gQ9gOTu...  4.2 out of 5 stars   \n",
       "436  https://m.media-amazon.com/images/I/71-I1PNzLS...  4.1 out of 5 stars   \n",
       "437  https://m.media-amazon.com/images/I/71hC42cKbs...  3.6 out of 5 stars   \n",
       "438  https://m.media-amazon.com/images/I/81adHsgHyd...  4.1 out of 5 stars   \n",
       "439  https://m.media-amazon.com/images/I/719+CaSnPx...  3.2 out of 5 stars   \n",
       "\n",
       "         price  \n",
       "0      ₹74,990  \n",
       "1      ₹52,890  \n",
       "2    ₹1,64,990  \n",
       "3      ₹76,990  \n",
       "4      ₹60,990  \n",
       "..         ...  \n",
       "435    ₹33,999  \n",
       "436    ₹37,422  \n",
       "437    ₹49,990  \n",
       "438    ₹40,000  \n",
       "439    ₹49,990  \n",
       "\n",
       "[440 rows x 4 columns]"
      ]
     },
     "execution_count": 25,
     "metadata": {},
     "output_type": "execute_result"
    }
   ],
   "source": [
    "data"
   ]
  },
  {
   "cell_type": "code",
   "execution_count": 29,
   "id": "e891e44b-3a02-4ba9-97d4-2405fcc415a6",
   "metadata": {},
   "outputs": [],
   "source": [
    "data.to_csv('Laptop Products.csv')"
   ]
  }
 ],
 "metadata": {
  "kernelspec": {
   "display_name": "Python 3 (ipykernel)",
   "language": "python",
   "name": "python3"
  },
  "language_info": {
   "codemirror_mode": {
    "name": "ipython",
    "version": 3
   },
   "file_extension": ".py",
   "mimetype": "text/x-python",
   "name": "python",
   "nbconvert_exporter": "python",
   "pygments_lexer": "ipython3",
   "version": "3.12.4"
  }
 },
 "nbformat": 4,
 "nbformat_minor": 5
}
